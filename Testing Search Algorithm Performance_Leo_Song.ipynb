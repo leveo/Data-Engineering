{
 "cells": [
  {
   "cell_type": "code",
   "execution_count": 1,
   "metadata": {},
   "outputs": [],
   "source": [
    "#Import Packages\n",
    "import numpy as np\n",
    "import pandas as pd\n",
    "import time\n",
    "import matplotlib.pyplot as plt\n",
    "import seaborn as sns"
   ]
  },
  {
   "cell_type": "code",
   "execution_count": 2,
   "metadata": {},
   "outputs": [],
   "source": [
    "# Seed random number generator\n",
    "numbers=[512,1024,2048,4096,8192]"
   ]
  },
  {
   "cell_type": "code",
   "execution_count": 3,
   "metadata": {},
   "outputs": [],
   "source": [
    "# Generate the sorted time for each number generator\n",
    "for x in numbers:\n",
    "    #Define name, sorted array and sort time \n",
    "    name='random'+str(x)\n",
    "    rsorted='sorted'+str(x)\n",
    "    rtime='time'+str(x)\n",
    "    #Generate random variable names\n",
    "    vars()[name]=np.random.randint(1,1001,x)\n",
    "    #Count the sorted time for each random variable name\n",
    "    start=time.perf_counter()\n",
    "    vars()[rsorted]=sorted(vars()[name])\n",
    "    end=time.perf_counter()\n",
    "    vars()[rtime]=end-start\n",
    "    "
   ]
  },
  {
   "cell_type": "code",
   "execution_count": 4,
   "metadata": {},
   "outputs": [
    {
     "name": "stdout",
     "output_type": "stream",
     "text": [
      "0.00027119999998603816 0.0005843000000140819 0.0012742000000116604 0.0029522000000099524 0.006402899999983447\n"
     ]
    }
   ],
   "source": [
    "print(time512,time1024,time2048,time4096,time8192)"
   ]
  },
  {
   "cell_type": "code",
   "execution_count": 5,
   "metadata": {},
   "outputs": [],
   "source": [
    "# Create dictionary for the sorted number set for future reference\n",
    "dict={\n",
    "    'sorted512':sorted512,\n",
    "    'sorted1024':sorted1024,\n",
    "    'sorted2048':sorted2048,\n",
    "    'sorted4096':sorted4096,\n",
    "    'sorted8192':sorted8192,\n",
    "}"
   ]
  },
  {
   "cell_type": "code",
   "execution_count": 6,
   "metadata": {},
   "outputs": [],
   "source": [
    "#Define Search Item\n",
    "searchitem = 790\n",
    "found = False"
   ]
  },
  {
   "cell_type": "code",
   "execution_count": 7,
   "metadata": {},
   "outputs": [],
   "source": [
    "# Define Linear Search Function\n",
    "def linearsearch(alist, n, item): \n",
    "\n",
    "    for i in range (0, n): \n",
    "        if (alist[i] == item): \n",
    "            return i; \n",
    "    return -1; "
   ]
  },
  {
   "cell_type": "code",
   "execution_count": 8,
   "metadata": {},
   "outputs": [
    {
     "name": "stdout",
     "output_type": "stream",
     "text": [
      "790 was not found in array  512\n",
      "790 was found in the list at index  804  in array  1024\n",
      "790 was found in the list at index  1606  in array  2048\n",
      "790 was found in the list at index  3213  in array  4096\n",
      "790 was found in the list at index  6459  in array  8192\n"
     ]
    }
   ],
   "source": [
    "#Apply Linear Search Function\n",
    "for x in numbers:\n",
    "    start=time.perf_counter()\n",
    "    lstime='lstime'+str(x)\n",
    "    alist = dict['sorted'+str(x)]\n",
    "    n = len(alist)\n",
    "    item = searchitem\n",
    "    result = linearsearch(alist, n, item) \n",
    "    if(result != -1): \n",
    "        print(searchitem,'was found in the list at index ',result,' in array ',x)\n",
    "    else: \n",
    "        print(searchitem, 'was not found in array ', x)\n",
    "    end=time.perf_counter()\n",
    "    vars()[lstime]=end-start"
   ]
  },
  {
   "cell_type": "code",
   "execution_count": 9,
   "metadata": {},
   "outputs": [
    {
     "name": "stdout",
     "output_type": "stream",
     "text": [
      "0.0005548999999973603 0.0006079999999997199 0.0013309999999933098 0.003114999999979773 0.003098899999997684\n"
     ]
    }
   ],
   "source": [
    "print(lstime512,lstime1024,lstime2048,lstime4096,lstime8192)"
   ]
  },
  {
   "cell_type": "code",
   "execution_count": 10,
   "metadata": {},
   "outputs": [],
   "source": [
    "# Define Binary Search Function\n",
    "def binarySearch(alist, item):\n",
    "    first = 0\n",
    "    last = len(alist)-1\n",
    "    found = False\n",
    "\n",
    "    while first<=last and not found:\n",
    "        midpoint = (first + last)//2\n",
    "        if alist[midpoint] == item:\n",
    "            found = True\n",
    "            return midpoint\n",
    "        else:\n",
    "            if item < alist[midpoint]:\n",
    "                last = midpoint-1\n",
    "            else:\n",
    "                first = midpoint+1\n",
    "\n",
    "    return -1"
   ]
  },
  {
   "cell_type": "code",
   "execution_count": 11,
   "metadata": {},
   "outputs": [
    {
     "name": "stdout",
     "output_type": "stream",
     "text": [
      "790 was not found in array  512\n",
      "790 was found in the list at index  793  in array  1024\n",
      "790 was found in the list at index  1642  in array  2048\n",
      "790 was found in the list at index  3247  in array  4096\n",
      "790 was found in the list at index  6511  in array  8192\n"
     ]
    }
   ],
   "source": [
    "#Apply Binary Search Function\n",
    "for y in numbers:\n",
    "    start=time.perf_counter()\n",
    "    bstime='bstime'+str(y)\n",
    "    arr=dict['sorted'+str(y)]\n",
    "    s=searchitem\n",
    "    # Function call \n",
    "    result = binarySearch(dict['sorted'+str(y)],searchitem) \n",
    "  \n",
    "    if result != -1:\n",
    "        print(searchitem,'was found in the list at index ',result,' in array ',y)\n",
    "    else: \n",
    "        print(searchitem, 'was not found in array ',y)\n",
    "    end=time.perf_counter()\n",
    "    vars()[bstime]=end-start\n"
   ]
  },
  {
   "cell_type": "code",
   "execution_count": 12,
   "metadata": {},
   "outputs": [
    {
     "name": "stdout",
     "output_type": "stream",
     "text": [
      "0.0006692999999700078 0.0006852999999864551 0.0002920000000017353 0.00023529999998572748 0.0005636000000208696\n"
     ]
    }
   ],
   "source": [
    "print(bstime512,bstime1024,bstime2048,bstime4096,bstime8192)"
   ]
  },
  {
   "cell_type": "code",
   "execution_count": 13,
   "metadata": {},
   "outputs": [],
   "source": [
    "#Create Lists \n",
    "sorttime=[time512,time1024,time2048,time4096,time8192]\n",
    "linearsearch=[lstime512,lstime1024,lstime2048,lstime4096,lstime8192]\n",
    "binarysearch=[bstime512,bstime1024,bstime2048,bstime4096,bstime8192]"
   ]
  },
  {
   "cell_type": "code",
   "execution_count": 14,
   "metadata": {},
   "outputs": [],
   "source": [
    "slstime=[time512+lstime512,time1024+lstime1024,time2048+lstime2048,time4096+lstime4096,time8192+lstime8192]\n",
    "sbstime=[time512+bstime512,time1024+bstime1024,time2048+bstime2048,time4096+bstime4096,time8192+bstime8192]"
   ]
  },
  {
   "cell_type": "code",
   "execution_count": 15,
   "metadata": {},
   "outputs": [],
   "source": [
    "#Combine Lists to a Dictionary\n",
    "Final_Output={\n",
    "    'Number':numbers,\n",
    "    'Sort Time':sorttime,\n",
    "    'Linear Search Time':linearsearch,\n",
    "    'Binary Search Time':binarysearch,\n",
    "    'Sort Time+Linear Search Time':slstime,\n",
    "    'Sort time+Binary Search Time':sbstime,\n",
    "}"
   ]
  },
  {
   "cell_type": "code",
   "execution_count": 16,
   "metadata": {},
   "outputs": [
    {
     "name": "stdout",
     "output_type": "stream",
     "text": [
      "   Number  Sort Time  Linear Search Time  Binary Search Time  \\\n",
      "0     512   0.000941            0.000555            0.000669   \n",
      "1    1024   0.001064            0.000608            0.000685   \n",
      "2    2048   0.003253            0.001331            0.000292   \n",
      "3    4096   0.001548            0.003115            0.000235   \n",
      "4    8192   0.003036            0.003099            0.000564   \n",
      "\n",
      "   Sort Time+Linear Search Time  Sort time+Binary Search Time  \n",
      "0                      0.001496                      0.001610  \n",
      "1                      0.001672                      0.001749  \n",
      "2                      0.004584                      0.003545  \n",
      "3                      0.004663                      0.001783  \n",
      "4                      0.006135                      0.003600  \n"
     ]
    }
   ],
   "source": [
    "result_df=pd.DataFrame(Final_Output)"
   ]
  },
  {
   "cell_type": "code",
   "execution_count": 22,
   "metadata": {},
   "outputs": [
    {
     "data": {
      "text/html": [
       "<div>\n",
       "<style scoped>\n",
       "    .dataframe tbody tr th:only-of-type {\n",
       "        vertical-align: middle;\n",
       "    }\n",
       "\n",
       "    .dataframe tbody tr th {\n",
       "        vertical-align: top;\n",
       "    }\n",
       "\n",
       "    .dataframe thead th {\n",
       "        text-align: right;\n",
       "    }\n",
       "</style>\n",
       "<table border=\"1\" class=\"dataframe\">\n",
       "  <thead>\n",
       "    <tr style=\"text-align: right;\">\n",
       "      <th></th>\n",
       "      <th>Number</th>\n",
       "      <th>Sort Time</th>\n",
       "      <th>Linear Search Time</th>\n",
       "      <th>Binary Search Time</th>\n",
       "      <th>Sort Time+Linear Search Time</th>\n",
       "      <th>Sort time+Binary Search Time</th>\n",
       "    </tr>\n",
       "  </thead>\n",
       "  <tbody>\n",
       "    <tr>\n",
       "      <th>0</th>\n",
       "      <td>512</td>\n",
       "      <td>0.000941</td>\n",
       "      <td>0.000555</td>\n",
       "      <td>0.000669</td>\n",
       "      <td>0.001496</td>\n",
       "      <td>0.001610</td>\n",
       "    </tr>\n",
       "    <tr>\n",
       "      <th>1</th>\n",
       "      <td>1024</td>\n",
       "      <td>0.001064</td>\n",
       "      <td>0.000608</td>\n",
       "      <td>0.000685</td>\n",
       "      <td>0.001672</td>\n",
       "      <td>0.001749</td>\n",
       "    </tr>\n",
       "    <tr>\n",
       "      <th>2</th>\n",
       "      <td>2048</td>\n",
       "      <td>0.003253</td>\n",
       "      <td>0.001331</td>\n",
       "      <td>0.000292</td>\n",
       "      <td>0.004584</td>\n",
       "      <td>0.003545</td>\n",
       "    </tr>\n",
       "    <tr>\n",
       "      <th>3</th>\n",
       "      <td>4096</td>\n",
       "      <td>0.001548</td>\n",
       "      <td>0.003115</td>\n",
       "      <td>0.000235</td>\n",
       "      <td>0.004663</td>\n",
       "      <td>0.001783</td>\n",
       "    </tr>\n",
       "    <tr>\n",
       "      <th>4</th>\n",
       "      <td>8192</td>\n",
       "      <td>0.003036</td>\n",
       "      <td>0.003099</td>\n",
       "      <td>0.000564</td>\n",
       "      <td>0.006135</td>\n",
       "      <td>0.003600</td>\n",
       "    </tr>\n",
       "  </tbody>\n",
       "</table>\n",
       "</div>"
      ],
      "text/plain": [
       "   Number  Sort Time  Linear Search Time  Binary Search Time  \\\n",
       "0     512   0.000941            0.000555            0.000669   \n",
       "1    1024   0.001064            0.000608            0.000685   \n",
       "2    2048   0.003253            0.001331            0.000292   \n",
       "3    4096   0.001548            0.003115            0.000235   \n",
       "4    8192   0.003036            0.003099            0.000564   \n",
       "\n",
       "   Sort Time+Linear Search Time  Sort time+Binary Search Time  \n",
       "0                      0.001496                      0.001610  \n",
       "1                      0.001672                      0.001749  \n",
       "2                      0.004584                      0.003545  \n",
       "3                      0.004663                      0.001783  \n",
       "4                      0.006135                      0.003600  "
      ]
     },
     "execution_count": 22,
     "metadata": {},
     "output_type": "execute_result"
    }
   ],
   "source": [
    "result_df.head()"
   ]
  },
  {
   "cell_type": "code",
   "execution_count": 26,
   "metadata": {},
   "outputs": [
    {
     "name": "stderr",
     "output_type": "stream",
     "text": [
      "D:\\Anaconda\\lib\\site-packages\\scipy\\stats\\stats.py:1713: FutureWarning: Using a non-tuple sequence for multidimensional indexing is deprecated; use `arr[tuple(seq)]` instead of `arr[seq]`. In the future this will be interpreted as an array index, `arr[np.array(seq)]`, which will result either in an error or a different result.\n",
      "  return np.add.reduce(sorted[indexer] * weights, axis=axis) / sumval\n"
     ]
    },
    {
     "data": {
      "text/plain": [
       "<seaborn.axisgrid.FacetGrid at 0x2142c7bb7b8>"
      ]
     },
     "execution_count": 26,
     "metadata": {},
     "output_type": "execute_result"
    },
    {
     "data": {
      "image/png": "[encoded data removed]",
      "text/plain": [
       "<Figure size 360x360 with 1 Axes>"
      ]
     },
     "metadata": {
      "needs_background": "light"
     },
     "output_type": "display_data"
    }
   ],
   "source": [
    "sns.lmplot('Number', 'Sort Time', data=result_df, fit_reg=True)"
   ]
  },
  {
   "cell_type": "code",
   "execution_count": 27,
   "metadata": {},
   "outputs": [
    {
     "data": {
      "text/plain": [
       "<seaborn.axisgrid.FacetGrid at 0x2142cadb940>"
      ]
     },
     "execution_count": 27,
     "metadata": {},
     "output_type": "execute_result"
    },
    {
     "data": {
      "image/png": "[encoded data removed]",
      "text/plain": [
       "<Figure size 360x360 with 1 Axes>"
      ]
     },
     "metadata": {
      "needs_background": "light"
     },
     "output_type": "display_data"
    }
   ],
   "source": [
    "sns.lmplot('Number', 'Linear Search Time', data=result_df, fit_reg=True)"
   ]
  },
  {
   "cell_type": "code",
   "execution_count": 28,
   "metadata": {},
   "outputs": [
    {
     "data": {
      "text/plain": [
       "<seaborn.axisgrid.FacetGrid at 0x2142cadbe10>"
      ]
     },
     "execution_count": 28,
     "metadata": {},
     "output_type": "execute_result"
    },
    {
     "data": {
      "image/png": "[encoded data removed]",
      "text/plain": [
       "<Figure size 360x360 with 1 Axes>"
      ]
     },
     "metadata": {
      "needs_background": "light"
     },
     "output_type": "display_data"
    }
   ],
   "source": [
    "sns.lmplot('Number', 'Binary Search Time', data=result_df, fit_reg=True)"
   ]
  }
 ],
 "metadata": {
  "kernelspec": {
   "display_name": "Python 3",
   "language": "python",
   "name": "python3"
  },
  "language_info": {
   "codemirror_mode": {
    "name": "ipython",
    "version": 3
   },
   "file_extension": ".py",
   "mimetype": "text/x-python",
   "name": "python",
   "nbconvert_exporter": "python",
   "pygments_lexer": "ipython3",
   "version": "3.7.1"
  }
 },
 "nbformat": 4,
 "nbformat_minor": 2
}
